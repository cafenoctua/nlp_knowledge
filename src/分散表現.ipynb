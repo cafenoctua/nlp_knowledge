{
 "cells": [
  {
   "cell_type": "markdown",
   "metadata": {},
   "source": [
    "# PPMI"
   ]
  },
  {
   "cell_type": "code",
   "execution_count": 1,
   "metadata": {},
   "outputs": [
    {
     "name": "stdout",
     "output_type": "stream",
     "text": [
      "convariance matrix\n",
      "[[0 1 0 0 1 1 0]\n",
      " [1 0 1 0 0 1 1]\n",
      " [0 1 0 1 0 0 0]\n",
      " [0 0 1 0 1 0 1]\n",
      " [1 0 0 1 0 0 0]\n",
      " [1 1 0 0 0 0 0]\n",
      " [0 1 0 1 0 0 0]]\n",
      "--------------------------------------------------\n",
      "PPMI\n",
      "[[0.    0.585 0.    0.    1.585 1.585 0.   ]\n",
      " [0.585 0.    1.17  0.    0.    1.17  1.17 ]\n",
      " [0.    1.17  0.    1.585 0.    0.    0.   ]\n",
      " [0.    0.    1.585 0.    1.585 0.    1.585]\n",
      " [1.585 0.    0.    1.585 0.    0.    0.   ]\n",
      " [1.585 1.17  0.    0.    0.    0.    0.   ]\n",
      " [0.    1.17  0.    1.585 0.    0.    0.   ]]\n"
     ]
    }
   ],
   "source": [
    "import numpy as np\n",
    "from common.util import preprocess, create_co_matrix, cos_similarity, ppmi\n",
    "\n",
    "text = 'I like animals. But I don\\'t like bags.'\n",
    "corpus, word_to_id, id_to_word = preprocess(text)\n",
    "vocab_size = len(word_to_id)\n",
    "C = create_co_matrix(corpus, vocab_size)\n",
    "W = ppmi(C)\n",
    "np.set_printoptions(precision=3)\n",
    "print('convariance matrix')\n",
    "print(C)\n",
    "print('-'*50)\n",
    "print('PPMI')\n",
    "print(W)"
   ]
  },
  {
   "cell_type": "markdown",
   "metadata": {},
   "source": [
    "# SVD"
   ]
  },
  {
   "cell_type": "code",
   "execution_count": 2,
   "metadata": {},
   "outputs": [
    {
     "name": "stdout",
     "output_type": "stream",
     "text": [
      "共起行列\n",
      "[0 1 0 0 1 1 0]\n",
      "--------------------------------------------------\n",
      "PPMI\n",
      "[0.    0.585 0.    0.    1.585 1.585 0.   ]\n",
      "--------------------------------------------------\n",
      "SVD\n",
      "[-3.702e-01 -2.483e-01  6.598e-01  5.479e-01  1.164e-01  2.285e-01\n",
      "  1.627e-16]\n",
      "--------------------------------------------------\n",
      "SVD 2dim\n",
      "[-0.37  -0.248]\n"
     ]
    },
    {
     "data": {
      "image/png": "[encoded data removed]",
      "text/plain": [
       "<Figure size 432x288 with 1 Axes>"
      ]
     },
     "metadata": {
      "needs_background": "light"
     },
     "output_type": "display_data"
    }
   ],
   "source": [
    "import numpy as np\n",
    "import matplotlib.pyplot as plt\n",
    "from common.util import preprocess, create_co_matrix, cos_similarity, ppmi\n",
    "\n",
    "text = 'I like animals. But I don\\'t like bags.'\n",
    "corpus, word_to_id, id_to_word = preprocess(text)\n",
    "vocab_size = len(word_to_id)\n",
    "C = create_co_matrix(corpus, vocab_size)\n",
    "W = ppmi(C)\n",
    "\n",
    "# SVD\n",
    "U, S, D = np.linalg.svd(W)\n",
    "\n",
    "print(\"共起行列\")\n",
    "print(C[0])\n",
    "print(\"-\"*50)\n",
    "print(\"PPMI\")\n",
    "print(W[0])\n",
    "print(\"-\"*50)\n",
    "print(\"SVD\")\n",
    "print(U[0])\n",
    "print(\"-\"*50)\n",
    "print(\"SVD 2dim\")\n",
    "print(U[0, :2])\n",
    "\n",
    "for word, word_id in word_to_id.items():\n",
    "    plt.annotate(word, (U[word_id, 0], U[word_id, 1]))\n",
    "\n",
    "plt.scatter(U[:,0], U[:,1], alpha=0.5)\n",
    "plt.show()"
   ]
  },
  {
   "cell_type": "code",
   "execution_count": null,
   "metadata": {},
   "outputs": [],
   "source": []
  }
 ],
 "metadata": {
  "kernelspec": {
   "display_name": "Python 3",
   "language": "python",
   "name": "python3"
  },
  "language_info": {
   "codemirror_mode": {
    "name": "ipython",
    "version": 3
   },
   "file_extension": ".py",
   "mimetype": "text/x-python",
   "name": "python",
   "nbconvert_exporter": "python",
   "pygments_lexer": "ipython3",
   "version": "3.8.5"
  }
 },
 "nbformat": 4,
 "nbformat_minor": 4
}
