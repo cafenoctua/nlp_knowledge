{
 "cells": [
  {
   "cell_type": "markdown",
   "metadata": {},
   "source": [
    "# BoWの動作理解"
   ]
  },
  {
   "cell_type": "markdown",
   "metadata": {},
   "source": [
    "# 単純なBoWの実装"
   ]
  },
  {
   "cell_type": "code",
   "execution_count": 1,
   "metadata": {},
   "outputs": [
    {
     "name": "stdout",
     "output_type": "stream",
     "text": [
      "[2, 2, 1, 1, 1, 1]\n"
     ]
    }
   ],
   "source": [
    "morphemes = ['I like animals. But I don\\'t like bags.']\n",
    "\n",
    "# 単語に数値を割り当てます。\n",
    "word2id = {} # {単語: ID}\n",
    "for line in morphemes:\n",
    "    for word in line.split():\n",
    "        if word in word2id:\n",
    "            continue\n",
    "        word2id[word] = len(word2id)\n",
    "\n",
    "# Bag of Wordsを作る\n",
    "bow_set = []\n",
    "for line in morphemes:\n",
    "    bow = [0] * len(word2id)\n",
    "    for word in line.split():\n",
    "        try:\n",
    "            bow[word2id[word]] += 1\n",
    "        except:\n",
    "            pass\n",
    "    bow_set.append(bow)\n",
    "print(*bow_set, sep=\"\\n\")"
   ]
  },
  {
   "cell_type": "markdown",
   "metadata": {},
   "source": [
    "# Gensimを使ったBoWの実装"
   ]
  },
  {
   "cell_type": "code",
   "execution_count": 6,
   "metadata": {},
   "outputs": [
    {
     "name": "stdout",
     "output_type": "stream",
     "text": [
      "{'But': 0, 'I': 1, 'animals.': 2, 'bags.': 3, \"don't\": 4, 'like': 5}\n",
      "--------------------\n",
      "I like animals. But I don't like bags.\n",
      "--------------------\n",
      "BoW format: (word ID, word frequency)\n",
      "[(0, 1), (1, 2), (2, 1), (3, 1), (4, 1), (5, 2)]\n",
      "--------------------\n",
      "BoW\n",
      "[1, 2, 1, 1, 1, 2]\n",
      "--------------------\n"
     ]
    }
   ],
   "source": [
    "from gensim.corpora import Dictionary\n",
    "from gensim import matutils as mtu\n",
    "\n",
    "# 辞書を作る\n",
    "dct = Dictionary()\n",
    "for line in morphemes:\n",
    "    # 辞書の更新\n",
    "    # All tokens should be already tokenized and normalized.\n",
    "    dct.add_documents([line.split()])\n",
    "word2id = dct.token2id # 単語 -> ID\n",
    "print(word2id)\n",
    "bow_set = []\n",
    "# 文をBoWに変換\n",
    "for line in morphemes:\n",
    "    # [(word ID, word frequency)]\n",
    "    bow_format = dct.doc2bow(line.split())\n",
    "    bow_set.append(bow_format)\n",
    "    print(\"-\"*20)\n",
    "    print(line)\n",
    "    print(\"-\"*20)\n",
    "    print(\"BoW format: (word ID, word frequency)\")\n",
    "    print(bow_format)\n",
    "    bow = mtu.corpus2dense([bow_format], num_terms=len(dct)).T[0]\n",
    "    print(\"-\"*20)\n",
    "    print(\"BoW\")\n",
    "#     print(bow)\n",
    "#     # numpyからlistに変える\n",
    "#     print(bow.tolist())\n",
    "    # intにする\n",
    "    print(list(map(int, bow.tolist())))\n",
    "    print(\"-\"*20)"
   ]
  },
  {
   "cell_type": "markdown",
   "metadata": {},
   "source": [
    "# Scikit-learnを使ったBoW"
   ]
  },
  {
   "cell_type": "code",
   "execution_count": 7,
   "metadata": {},
   "outputs": [],
   "source": [
    "from sklearn.feature_extraction.text import CountVectorizer\n",
    "\n",
    "vectorizer = CountVectorizer(token_pattern=u'(?u)\\\\b\\\\w+\\\\b')\n",
    "bag = vectorizer.fit_transform(morphemes)"
   ]
  },
  {
   "cell_type": "code",
   "execution_count": 9,
   "metadata": {},
   "outputs": [
    {
     "name": "stdout",
     "output_type": "stream",
     "text": [
      "[[1 1 1 1 2 2 1]]\n",
      "{'i': 4, 'like': 5, 'animals': 0, 'but': 2, 'don': 3, 't': 6, 'bags': 1}\n",
      "['animals', 'bags', 'but', 'don', 'i', 'like', 't']\n"
     ]
    }
   ],
   "source": [
    "print(bag.toarray())\n",
    "print(vectorizer.vocabulary_)\n",
    "print(vectorizer.get_feature_names())"
   ]
  },
  {
   "cell_type": "code",
   "execution_count": null,
   "metadata": {},
   "outputs": [],
   "source": []
  }
 ],
 "metadata": {
  "kernelspec": {
   "display_name": "Python 3",
   "language": "python",
   "name": "python3"
  },
  "language_info": {
   "codemirror_mode": {
    "name": "ipython",
    "version": 3
   },
   "file_extension": ".py",
   "mimetype": "text/x-python",
   "name": "python",
   "nbconvert_exporter": "python",
   "pygments_lexer": "ipython3",
   "version": "3.8.5"
  }
 },
 "nbformat": 4,
 "nbformat_minor": 4
}
